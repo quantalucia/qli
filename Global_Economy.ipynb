{
  "nbformat": 4,
  "nbformat_minor": 0,
  "metadata": {
    "colab": {
      "name": "Global Economy.ipynb",
      "provenance": [],
      "collapsed_sections": [],
      "authorship_tag": "ABX9TyNU9eMbupavAyslv6GjAJ/o",
      "include_colab_link": true
    },
    "kernelspec": {
      "name": "python3",
      "display_name": "Python 3"
    },
    "language_info": {
      "name": "python"
    }
  },
  "cells": [
    {
      "cell_type": "markdown",
      "metadata": {
        "id": "view-in-github",
        "colab_type": "text"
      },
      "source": [
        "<a href=\"https://colab.research.google.com/github/quantalucia/globalmarket/blob/main/Global_Economy.ipynb\" target=\"_parent\"><img src=\"https://colab.research.google.com/assets/colab-badge.svg\" alt=\"Open In Colab\"/></a>"
      ]
    },
    {
      "cell_type": "code",
      "execution_count": 4,
      "metadata": {
        "id": "hdBbheNdGj0h"
      },
      "outputs": [],
      "source": [
        "# we may create some pods(an independent economic indicator) to check their coefficiency \n",
        "# design idea\n",
        "\n",
        "# a pod(e.g. interest rate(US)), may increase in absolute value, say from 0.5% to 0.75% \n",
        "# it may lead to a reasoning of shrinkage in money supply(the purpose of rate hike is to curb money over-supply, presumably)\n",
        "import time\n",
        "\n",
        "class POD(object):\n",
        "  def __init__(self, name, data_src=None):\n",
        "    self.__data = data_src\n",
        "    self.__last_updated = 0\n",
        "    self.__change = 0\n",
        "    print(\"Economic pod created:\", name)\n",
        "\n",
        "  def refreshData(self):\n",
        "    if self.__data:\n",
        "      #check data is newer then update it\n",
        "      self.__last_updated = time.time()\n",
        "      print(\"data refreshed to:\", self.__last_updated)\n",
        "\n",
        "  def simulate(self):\n",
        "    Ellipsis\n",
        "      "
      ]
    },
    {
      "cell_type": "code",
      "source": [
        "\n",
        "#create any pods from base class\n",
        "p1 = POD(\"GDP\")\n",
        "p2 = POD(\"US Interest Rate\")\n",
        "P3 = POD(\"CNY/USD\")"
      ],
      "metadata": {
        "id": "eadBWHRYJcX3",
        "colab": {
          "base_uri": "https://localhost:8080/"
        },
        "outputId": "77daf690-62a6-4541-e808-db677431cb20"
      },
      "execution_count": 5,
      "outputs": [
        {
          "output_type": "stream",
          "name": "stdout",
          "text": [
            "Economic pod created: GDP\n",
            "Economic pod created: US Interest Rate\n",
            "Economic pod created: CNY/USD\n"
          ]
        }
      ]
    },
    {
      "cell_type": "code",
      "source": [
        ""
      ],
      "metadata": {
        "id": "_tGuEQhOIewo"
      },
      "execution_count": null,
      "outputs": []
    }
  ]
}