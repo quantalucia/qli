{
  "cells": [
    {
      "cell_type": "markdown",
      "metadata": {
        "colab_type": "text",
        "id": "view-in-github"
      },
      "source": [
        "<a href=\"https://colab.research.google.com/github/quantalucia/globalmarket/blob/main/Global_Economy.ipynb\" target=\"_parent\"><img src=\"https://colab.research.google.com/assets/colab-badge.svg\" alt=\"Open In Colab\"/></a>"
      ]
    },
    {
      "cell_type": "code",
      "execution_count": null,
      "metadata": {
        "id": "hdBbheNdGj0h"
      },
      "outputs": [
        {
          "ename": "",
          "evalue": "",
          "output_type": "error",
          "traceback": [
            "\u001b[1;31mThe kernel failed to start due to the missing module 'prompt_toolkit.formatted_text'. Consider installing this module.\n",
            "Click <a href='https://aka.ms/kernelFailuresMissingModule'>here</a> for more info."
          ]
        }
      ],
      "source": [
        "# we may create some pods(an independent economic indicator) to check their coefficiency \n",
        "# design idea\n",
        "\n",
        "# a pod(e.g. interest rate(US)), may increase in absolute value, say from 0.5% to 0.75% \n",
        "# it may lead to a reasoning of shrinkage in money supply(the purpose of rate hike is to curb money over-supply, presumably)\n",
        "import time\n"
      ]
    },
    {
      "cell_type": "code",
      "execution_count": null,
      "metadata": {
        "colab": {
          "base_uri": "https://localhost:8080/"
        },
        "id": "eadBWHRYJcX3",
        "outputId": "77daf690-62a6-4541-e808-db677431cb20"
      },
      "outputs": [
        {
          "name": "stdout",
          "output_type": "stream",
          "text": [
            "Economic pod created: GDP\n",
            "Economic pod created: US Interest Rate\n",
            "Economic pod created: CNY/USD\n"
          ]
        },
        {
          "ename": "",
          "evalue": "",
          "output_type": "error",
          "traceback": [
            "\u001b[1;31mThe kernel failed to start due to the missing module 'prompt_toolkit.formatted_text'. Consider installing this module.\n",
            "Click <a href='https://aka.ms/kernelFailuresMissingModule'>here</a> for more info."
          ]
        }
      ],
      "source": [
        "globalEconomy = []\n",
        "\n",
        "#create any pods from base class\n",
        "p1 = POD(\"GDP US\")\n",
        "p2 = POD(\"US Interest Rate\")\n",
        "p3 = POD(\"M2 CN\")\n",
        "pCryptoMarketCap = POD(\"total marketcap of crypto\")\n",
        "\n",
        "# append to global graph\n",
        "globalEconomy.append(p1)\n",
        "globalEconomy.append(p2)\n",
        "globalEconomy.append(p3)\n",
        "globalEconomy.append(pCryptoMarketCap)\n",
        "# connect pods\n",
        "p2.affectPod(p3,0.01)\n",
        "\n",
        "# add new pods\n",
        "p4 = POD(\"IPO amounts US\")\n",
        "globalEconomy.append(p4)\n",
        "\n",
        "# merge pods, delete pods, etc.\n"
      ]
    },
    {
      "cell_type": "code",
      "execution_count": null,
      "metadata": {
        "id": "_tGuEQhOIewo"
      },
      "outputs": [
        {
          "ename": "",
          "evalue": "",
          "output_type": "error",
          "traceback": [
            "\u001b[1;31mThe kernel failed to start due to the missing module 'prompt_toolkit.formatted_text'. Consider installing this module.\n",
            "Click <a href='https://aka.ms/kernelFailuresMissingModule'>here</a> for more info."
          ]
        }
      ],
      "source": []
    }
  ],
  "metadata": {
    "colab": {
      "authorship_tag": "ABX9TyNYYJAjmQMnLk+f/RjeE05g",
      "collapsed_sections": [],
      "include_colab_link": true,
      "name": "Global Economy.ipynb",
      "provenance": []
    },
    "kernelspec": {
      "display_name": "Python 3.10.4 64-bit",
      "language": "python",
      "name": "python3"
    },
    "language_info": {
      "name": "python",
      "version": "3.10.4"
    },
    "vscode": {
      "interpreter": {
        "hash": "916dbcbb3f70747c44a77c7bcd40155683ae19c65e1c03b4aa3499c5328201f1"
      }
    }
  },
  "nbformat": 4,
  "nbformat_minor": 0
}
